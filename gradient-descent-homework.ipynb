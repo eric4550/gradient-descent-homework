{
  "nbformat": 4,
  "nbformat_minor": 0,
  "metadata": {
    "colab": {
      "name": "Screen Shot 2020-09-02 at 5.59.13 PM.ipynb",
      "provenance": [],
      "collapsed_sections": [],
      "include_colab_link": true
    },
    "kernelspec": {
      "display_name": "Python 3",
      "language": "python",
      "name": "python3"
    },
    "language_info": {
      "codemirror_mode": {
        "name": "ipython",
        "version": 3
      },
      "file_extension": ".py",
      "mimetype": "text/x-python",
      "name": "python",
      "nbconvert_exporter": "python",
      "pygments_lexer": "ipython3",
      "version": "3.7.7"
    }
  },
  "cells": [
    {
      "cell_type": "markdown",
      "metadata": {
        "id": "view-in-github",
        "colab_type": "text"
      },
      "source": [
        "<a href=\"https://colab.research.google.com/github/eric4550/gradient-descent-homework/blob/master/gradient-descent-homework.ipynb\" target=\"_parent\"><img src=\"https://colab.research.google.com/assets/colab-badge.svg\" alt=\"Open In Colab\"/></a>"
      ]
    },
    {
      "cell_type": "markdown",
      "metadata": {
        "colab_type": "text",
        "id": "cm-Ca2tINtDv"
      },
      "source": [
        "# 1-D Gradient descent coding problem"
      ]
    },
    {
      "cell_type": "code",
      "metadata": {
        "id": "BApLKBQApkEg",
        "colab_type": "code",
        "colab": {
          "base_uri": "https://localhost:8080/",
          "height": 130
        },
        "outputId": "25ce0bf0-67bb-4131-843b-a8962ce00c93"
      },
      "source": [
        ""
      ],
      "execution_count": 12,
      "outputs": [
        {
          "output_type": "error",
          "ename": "SyntaxError",
          "evalue": "ignored",
          "traceback": [
            "\u001b[0;36m  File \u001b[0;32m\"<ipython-input-12-8d43f25c21b8>\"\u001b[0;36m, line \u001b[0;32m1\u001b[0m\n\u001b[0;31m    install git\u001b[0m\n\u001b[0m              ^\u001b[0m\n\u001b[0;31mSyntaxError\u001b[0m\u001b[0;31m:\u001b[0m invalid syntax\n"
          ]
        }
      ]
    },
    {
      "cell_type": "markdown",
      "metadata": {
        "colab_type": "text",
        "id": "Ui9ASlfDbZBv"
      },
      "source": [
        "Instructions:\n",
        "- There are 4 problems.  For each, replace the comment YOUR CODE HERE with your code.\n",
        "- Do not modify the code in other ways.  You will probably want to write test code while you're getting your code working.  Mark your test code clearly and then remove it before submitting.\n",
        "- Before submitting your code, select 'Restart and run all' from the Runtime menu."
      ]
    },
    {
      "cell_type": "code",
      "metadata": {
        "colab_type": "code",
        "id": "yZabxQdKDlmv",
        "colab": {}
      },
      "source": [
        "import numpy as np\n",
        "import matplotlib.pyplot as plt"
      ],
      "execution_count": 5,
      "outputs": []
    },
    {
      "cell_type": "markdown",
      "metadata": {
        "colab_type": "text",
        "id": "NTbqZrhKKByW"
      },
      "source": [
        "## Derivatives\n",
        "\n",
        "In calculus, you are given the definition of a function f and told to find the derivative f', which is another function.  To solve this problem, you need to know the definition of f, and also have the skill to find the derivative.  For some functions it's very hard to work out the derivative this way.\n",
        "\n",
        "Here we use a different method.  We compute the derivative of a function **numerically**, which means algorithmically.  The benefit of working this way is that we don't need to know the definition of the function, and we don't need to know the techniques you learned in calculus class."
      ]
    },
    {
      "cell_type": "markdown",
      "metadata": {
        "colab_type": "text",
        "id": "uxBefcNseNzX"
      },
      "source": [
        "#### Problem 1"
      ]
    },
    {
      "cell_type": "code",
      "metadata": {
        "colab_type": "code",
        "id": "YSlqflZMJ9Wg",
        "colab": {}
      },
      "source": [
        "def deriv(f):\n",
        "  \"\"\" return the numeric derivative of single-variable function f \"\"\"\n",
        "  h = 0.00001\n",
        "  return lambda x: (f(x+h)-f(x))/h"
      ],
      "execution_count": 6,
      "outputs": []
    },
    {
      "cell_type": "code",
      "metadata": {
        "colab_type": "code",
        "id": "8W5rWPnrKgsv",
        "colab": {
          "base_uri": "https://localhost:8080/",
          "height": 68
        },
        "outputId": "4a243705-bfcd-4423-c1ae-d2aea3afab45"
      },
      "source": [
        "# test the deriv() function\n",
        "\n",
        "def g(x):\n",
        "  return 2*((x-1)**2)\n",
        "\n",
        "# print the value of the derivative of function g at 0, 1, 3  \n",
        "g_prime = deriv(g)\n",
        "for x in [0, 1, 3]:\n",
        "  print('x: {:0.3f}, g_prime(x): {:0.3f}'.format(x, g_prime(x)))    "
      ],
      "execution_count": 7,
      "outputs": [
        {
          "output_type": "stream",
          "text": [
            "x: 0.000, g_prime(x): -4.000\n",
            "x: 1.000, g_prime(x): 0.000\n",
            "x: 3.000, g_prime(x): 8.000\n"
          ],
          "name": "stdout"
        }
      ]
    },
    {
      "cell_type": "code",
      "metadata": {
        "colab_type": "code",
        "id": "j0pBdhVQOgW2",
        "colab": {}
      },
      "source": [
        "def plot_fun_and_deriv(f):\n",
        "  \"\"\" plot single-variable function f and its derivative \"\"\"\n",
        "  f_prime = deriv(f)\n",
        "  xs = np.linspace(-5, 5, num=50)\n",
        "  fig, axes = plt.subplots(nrows=2, ncols=1, sharex=True, figsize=(5,8))\n",
        "  axes[0].plot(xs, [f(x) for x in xs])\n",
        "  axes[0].set_title('function')\n",
        "  axes[1].plot(xs, [f_prime(x) for x in xs])\n",
        "  axes[1].set_title('derivative')"
      ],
      "execution_count": 8,
      "outputs": []
    },
    {
      "cell_type": "code",
      "metadata": {
        "colab_type": "code",
        "id": "NSyPUrKFaajX",
        "colab": {
          "base_uri": "https://localhost:8080/",
          "height": 499
        },
        "outputId": "2645ca1d-2a76-4982-e465-28480118b346"
      },
      "source": [
        "plot_fun_and_deriv(g)"
      ],
      "execution_count": 9,
      "outputs": [
        {
          "output_type": "display_data",
          "data": {
            "image/png": "[encoded data removed]",
            "text/plain": [
              "<Figure size 360x576 with 2 Axes>"
            ]
          },
          "metadata": {
            "tags": [],
            "needs_background": "light"
          }
        }
      ]
    },
    {
      "cell_type": "markdown",
      "metadata": {
        "colab_type": "text",
        "id": "Xv6-zzJ-_FSV"
      },
      "source": [
        "## Gradient descent\n",
        "\n",
        "In gradient descent we want to find the value of x that minimizes (or maximizes) a function f.  We do this by starting with some x, computing th derivative of f at x, and then using the derivative to make an adjustment to x."
      ]
    },
    {
      "cell_type": "markdown",
      "metadata": {
        "colab_type": "text",
        "id": "kEG2KGPdeWFe"
      },
      "source": [
        "#### Problem 2"
      ]
    },
    {
      "cell_type": "code",
      "metadata": {
        "colab_type": "code",
        "id": "kLFYL_3U_JY9",
        "colab": {}
      },
      "source": [
        "def grad_descent_1d(f, n_iterations=1000, alpha=0.01):\n",
        "  \"\"\" Return the value x for which function f(x) is minimum.  Also\n",
        "  return the values of x along the path of gradient descent.  \"\"\"\n",
        "  \n",
        "  x = 0.0    # the starting value for gradient descent\n",
        "  xs = []    # all the x values encountered during gradient descent\n",
        "\n",
        "  # YOUR CODE HERE\n",
        "  # hint: note that this function only needs to use the derivative of f, not \n",
        "  # f itself\n",
        "\n",
        "  return x, xs"
      ],
      "execution_count": null,
      "outputs": []
    },
    {
      "cell_type": "code",
      "metadata": {
        "colab_type": "code",
        "id": "w9DKGU8YALJe",
        "colab": {}
      },
      "source": [
        "# test the grad_descent_1d function\n",
        "f1 = lambda x: (x - 1)**2\n",
        "f2 = lambda x: 0.2*(x**2) + np.sin(x)\n",
        "\n",
        "for f in [f1, f2]:\n",
        "  x, xs = grad_descent_1d(f)\n",
        "  print('x = {:0.4f}, f(x) = {:0.4f}'.format(x, f(x)))"
      ],
      "execution_count": null,
      "outputs": []
    },
    {
      "cell_type": "code",
      "metadata": {
        "colab_type": "code",
        "id": "qgELkT8-IhUH",
        "colab": {}
      },
      "source": [
        "def plot_descent(f, xs):\n",
        "  \"\"\" plot value of function f as gradient descent proceeds \"\"\"\n",
        "  plt.plot(range(len(xs)), [f(x) for x in xs])\n",
        "  plt.xlabel('iteration')\n",
        "  plt.ylabel('f(x)')\n",
        "  plt.title('Progress of gradient descent')\n",
        "  plt.grid();"
      ],
      "execution_count": null,
      "outputs": []
    },
    {
      "cell_type": "code",
      "metadata": {
        "colab_type": "code",
        "id": "1hCdjCNsctK3",
        "colab": {}
      },
      "source": [
        "# plot progress of gradient descent for function f2\n",
        "x, xs = grad_descent_1d(f2)\n",
        "plot_descent(f2, xs)"
      ],
      "execution_count": null,
      "outputs": []
    },
    {
      "cell_type": "markdown",
      "metadata": {
        "colab_type": "text",
        "id": "q_ZRCn_NEySC"
      },
      "source": [
        "## MSE loss\n",
        "\n",
        "The key idea for training linear regression is that we want to use linear regression to find the model parameters that minimize the loss function.  For linear regression, the loss function is \"mean squared error\" (MSE).\n",
        "\n",
        "Note that to compute the MSE we need to use both the model parameters and the training data."
      ]
    },
    {
      "cell_type": "code",
      "metadata": {
        "colab_type": "code",
        "id": "Ry6pMSUaEwDG",
        "colab": {}
      },
      "source": [
        "# create training data\n",
        "# x is the single predictor value, y is the target value\n",
        "# x,y are NumPy arrays\n",
        "np.random.seed(0)  # set seed for repeatability\n",
        "\n",
        "# generate points on the line y = b0 + b1*x, then add noise\n",
        "b0 = 1.5\n",
        "b1 = 2.5\n",
        "n = 20\n",
        "x = np.linspace(0, 10, num=n)   # n values evenly spaced from 0 to 10\n",
        "y = b0 + b1*x\n",
        "noise = np.random.normal(scale=4.0, size=n)   # n values sampled from normal distributions\n",
        "y = y + noise"
      ],
      "execution_count": null,
      "outputs": []
    },
    {
      "cell_type": "code",
      "metadata": {
        "colab_type": "code",
        "id": "5jgNm8YEGO3-",
        "colab": {}
      },
      "source": [
        "# plot the training data\n",
        "plt.scatter(x,y);\n",
        "plt.title('training data set')\n",
        "plt.xlabel('x')\n",
        "plt.ylabel('y');"
      ],
      "execution_count": null,
      "outputs": []
    },
    {
      "cell_type": "markdown",
      "metadata": {
        "colab_type": "text",
        "id": "OwKyJDJ7edTO"
      },
      "source": [
        "#### Problem 3"
      ]
    },
    {
      "cell_type": "code",
      "metadata": {
        "colab_type": "code",
        "id": "b0TlwrfoGk7d",
        "colab": {}
      },
      "source": [
        "# b0 is known and fixed\n",
        "def mse_loss(b1):\n",
        "  \"\"\" return MSE loss for a linear function based on model parameters and training data \"\"\"\n",
        "  return # YOUR CODE HERE"
      ],
      "execution_count": null,
      "outputs": []
    },
    {
      "cell_type": "code",
      "metadata": {
        "colab_type": "code",
        "id": "OJQ4FzAHKJ6_",
        "colab": {}
      },
      "source": [
        "# test mse_loss() by computing the loss for various\n",
        "# values of parameter b1\n",
        "for b in [0, b1, b1-1, b1+1, b1+2]:\n",
        "  print('b1: {:0.3f}, mse_loss(x): {:0.3f}'.format(b, mse_loss(b)))"
      ],
      "execution_count": null,
      "outputs": []
    },
    {
      "cell_type": "markdown",
      "metadata": {
        "colab_type": "text",
        "id": "2bpU22BtHFMa"
      },
      "source": [
        "## Linear regression\n",
        "\n",
        "Now we can put together our gradient descent function and mse_loss function to perform linear regression."
      ]
    },
    {
      "cell_type": "markdown",
      "metadata": {
        "colab_type": "text",
        "id": "FTN_0bL-eiNw"
      },
      "source": [
        "#### Problem 4"
      ]
    },
    {
      "cell_type": "code",
      "metadata": {
        "colab_type": "code",
        "id": "69son0weHcjt",
        "colab": {}
      },
      "source": [
        "# use gradient descent to find the value of b1 that minimizes the mse_loss function\n",
        "b1_estimated, x2 = # YOUR CODE HERE\n",
        "\n",
        "print(b1_estimated)"
      ],
      "execution_count": null,
      "outputs": []
    },
    {
      "cell_type": "code",
      "metadata": {
        "colab_type": "code",
        "id": "DGMwUljzNHWY",
        "colab": {}
      },
      "source": [
        "plot_descent(mse_loss, x2)"
      ],
      "execution_count": null,
      "outputs": []
    },
    {
      "cell_type": "markdown",
      "metadata": {
        "colab_type": "text",
        "id": "9s_kno5mjzjo"
      },
      "source": [
        "Plot training data and best fit line."
      ]
    },
    {
      "cell_type": "code",
      "metadata": {
        "colab_type": "code",
        "id": "EabHFq8Djxvf",
        "colab": {}
      },
      "source": [
        "plt.scatter(x, y)\n",
        "y_pred = b0 + b1_estimated*x\n",
        "plt.plot(x, y_pred, c='red')\n",
        "plt.title('Training data and best model');"
      ],
      "execution_count": null,
      "outputs": []
    }
  ]
}